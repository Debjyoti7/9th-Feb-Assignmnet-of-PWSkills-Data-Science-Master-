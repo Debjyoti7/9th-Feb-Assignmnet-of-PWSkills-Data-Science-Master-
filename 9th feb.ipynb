{
 "cells": [
  {
   "cell_type": "markdown",
   "id": "8b5288d3-2e72-41ad-b1f6-3eff849860d5",
   "metadata": {},
   "source": [
    "# Q1, Create a vehicle class with an init method having instance variables as name_of_vehicle, max_speed and average_of_vehicle."
   ]
  },
  {
   "cell_type": "code",
   "execution_count": 1,
   "id": "c4e25b68-b70f-4262-bce5-a1c631f130d3",
   "metadata": {},
   "outputs": [],
   "source": [
    "class Vehicle:\n",
    "    def __init__(self, name, max_speed, avg_speed):\n",
    "        self.name_of_vehicle = name\n",
    "        self.max_speed = max_speed\n",
    "        self.average_of_vehicle = avg_speed\n"
   ]
  },
  {
   "cell_type": "code",
   "execution_count": 3,
   "id": "d0a1801a-356a-4cc5-ac87-5855eebb454e",
   "metadata": {},
   "outputs": [
    {
     "name": "stdout",
     "output_type": "stream",
     "text": [
      "Name of Vehicle: KIA\n",
      "Max Speed: 200\n",
      "Average Speed: 100\n"
     ]
    }
   ],
   "source": [
    "my_vehicle = Vehicle(\"KIA\", 200, 100)\n",
    "\n",
    "print(\"Name of Vehicle:\", my_vehicle.name_of_vehicle)\n",
    "print(\"Max Speed:\", my_vehicle.max_speed)\n",
    "print(\"Average Speed:\", my_vehicle.average_of_vehicle)\n"
   ]
  },
  {
   "cell_type": "markdown",
   "id": "4864c60b-c967-4bb1-b814-c8e9160c142a",
   "metadata": {},
   "source": [
    "# Q2. Create a child class car from the vehicle class created in Que 1, which will inherit the vehicle class. Create a method named seating_capacity which takes capacity as an argument and returns the name of the vehicle and its seating capacity."
   ]
  },
  {
   "cell_type": "code",
   "execution_count": 6,
   "id": "1410ca1c-432a-4e58-9ece-2f8f76571b5b",
   "metadata": {},
   "outputs": [],
   "source": [
    "class Car(Vehicle):\n",
    "    def seating_capacity(self, capacity):\n",
    "        return f\"{self.name_of_vehicle} has a seating capacity of {capacity} passengers.\"\n"
   ]
  },
  {
   "cell_type": "code",
   "execution_count": 7,
   "id": "64d2cdf7-67f6-4184-a7ea-c1f42a60df70",
   "metadata": {},
   "outputs": [
    {
     "name": "stdout",
     "output_type": "stream",
     "text": [
      "Toyota has a seating capacity of 5 passengers.\n"
     ]
    }
   ],
   "source": [
    "my_car = Car(\"Toyota\", 180, 90)\n",
    "print(my_car.seating_capacity(5))\n"
   ]
  },
  {
   "cell_type": "markdown",
   "id": "55cf84af-5534-4e73-bff6-68fd1438eff0",
   "metadata": {},
   "source": [
    "# Q3. What is multiple inheritance? Write a python code to demonstrate multiple inheritance."
   ]
  },
  {
   "cell_type": "markdown",
   "id": "8eb43589-dc1c-4ba6-b118-53fca9783301",
   "metadata": {},
   "source": [
    "# Multiple inheritance is a feature in object-oriented programming languages where a class can inherit from multiple parent classes. This allows the child class to have the characteristics of all its parent classes."
   ]
  },
  {
   "cell_type": "code",
   "execution_count": 8,
   "id": "08a8361a-049e-4cd4-8aa9-c752ad631359",
   "metadata": {},
   "outputs": [],
   "source": [
    "class Employee:\n",
    "    def __init__(self, name, id):\n",
    "        self.name = name\n",
    "        self.id = id\n",
    "\n",
    "class Department:\n",
    "    def __init__(self, dept_name):\n",
    "        self.dept_name = dept_name\n",
    "\n",
    "class FullTimeEmployee(Employee, Department):\n",
    "    def __init__(self, name, id, dept_name, salary):\n",
    "        Employee.__init__(self, name, id)\n",
    "        Department.__init__(self, dept_name)\n",
    "        self.salary = salary\n",
    "\n",
    "    def display_employee_details(self):\n",
    "        print(\"Name:\", self.name)\n",
    "        print(\"ID:\", self.id)\n",
    "        print(\"Department:\", self.dept_name)\n",
    "        print(\"Salary:\", self.salary)\n"
   ]
  },
  {
   "cell_type": "code",
   "execution_count": 9,
   "id": "be40a776-5a17-4223-beac-f0f1ec3e5ad5",
   "metadata": {},
   "outputs": [
    {
     "name": "stdout",
     "output_type": "stream",
     "text": [
      "Name: DEBJYOTI\n",
      "ID: 12345\n",
      "Department: DATA SCIENTIST\n",
      "Salary: 100000\n"
     ]
    }
   ],
   "source": [
    "emp = FullTimeEmployee(\"DEBJYOTI\", 12345, \"DATA SCIENTIST\", 100000)\n",
    "\n",
    "emp.display_employee_details()\n"
   ]
  },
  {
   "cell_type": "markdown",
   "id": "a658d519-34a0-4231-8b90-b48bd9a70960",
   "metadata": {},
   "source": [
    "# Q4. What are getter and setter in python? Create a class and create a getter and a setter method in this class."
   ]
  },
  {
   "cell_type": "markdown",
   "id": "474501d7-f7da-449d-8c73-1087f5227154",
   "metadata": {},
   "source": [
    "## In Python, getters and setters are methods that allow you to get and set the values of instance variables (also known as attributes) of a class. Getters and setters provide a way to control the access to class variables and protect them from being modified directly."
   ]
  },
  {
   "cell_type": "code",
   "execution_count": 12,
   "id": "6c5d9c99-ffd2-41e3-afd0-a566f34ba385",
   "metadata": {},
   "outputs": [],
   "source": [
    "class Person:\n",
    "    def __init__(self, name, age):\n",
    "        self.name = name\n",
    "        self.age = age\n",
    "\n",
    "    def get_name(self):\n",
    "        return self.name\n",
    "\n",
    "    def set_age(self, age):\n",
    "        if age < 0:\n",
    "            raise ValueError(\"Age cannot be negative\")\n",
    "        else:\n",
    "            self.age = age\n"
   ]
  },
  {
   "cell_type": "code",
   "execution_count": 22,
   "id": "662729a4-47a8-467d-b199-f583ee661645",
   "metadata": {},
   "outputs": [
    {
     "name": "stdout",
     "output_type": "stream",
     "text": [
      "suman\n"
     ]
    }
   ],
   "source": [
    "person1 = Person(\"suman\", 30)\n",
    "\n",
    "print(person1.get_name())\n",
    "\n",
    "person1.set_age(40)\n"
   ]
  },
  {
   "cell_type": "code",
   "execution_count": 23,
   "id": "15760ee6-ba76-4177-8d9d-3a406a5f6117",
   "metadata": {},
   "outputs": [
    {
     "data": {
      "text/plain": [
       "40"
      ]
     },
     "execution_count": 23,
     "metadata": {},
     "output_type": "execute_result"
    }
   ],
   "source": [
    "person1.age"
   ]
  },
  {
   "cell_type": "markdown",
   "id": "a36e9509-e571-45c9-b4f5-62ec12c2b257",
   "metadata": {},
   "source": [
    "# Q5.What is method overriding in python? Write a python code to demonstrate method overriding."
   ]
  },
  {
   "cell_type": "code",
   "execution_count": null,
   "id": "86ad24b8-0eb4-45f5-b83f-b66116178afa",
   "metadata": {},
   "outputs": [],
   "source": []
  }
 ],
 "metadata": {
  "kernelspec": {
   "display_name": "Python 3 (ipykernel)",
   "language": "python",
   "name": "python3"
  },
  "language_info": {
   "codemirror_mode": {
    "name": "ipython",
    "version": 3
   },
   "file_extension": ".py",
   "mimetype": "text/x-python",
   "name": "python",
   "nbconvert_exporter": "python",
   "pygments_lexer": "ipython3",
   "version": "3.10.8"
  }
 },
 "nbformat": 4,
 "nbformat_minor": 5
}
